{
 "cells": [
  {
   "cell_type": "markdown",
   "metadata": {},
   "source": [
    "# 5 Exploration: Higher-order analysis of real-world pathway data\n",
    "\n",
    "**Ingo Scholtes**  \n",
    "Data Analytics Group  \n",
    "Department of Informatics (IfI)  \n",
    "University of Zurich  \n",
    "\n",
    "\n",
    "**September 5 2018**\n",
    "\n",
    "In the last (open-ended) exploration of this first tutorial session, you have the chance to use higher-order network analytics to study real data sets for yourself.\n",
    "\n",
    "Details on the available data sets can be found [here](https://github.com/IngoScholtes/csh2018-tutorial/tree/master/data). Using these methods introduced in the previous unit, you can - for instance - address the following questions (in ascending order of difficulty):\n",
    "\n",
    "- Repeat the analysis of higher-order centralities in the toy example from 1.3 with the closeness centrality of nodes. What do you observe?\n",
    "- Test the prediction performance of higher-order models for the London Tube and/or the Wikipedia clickstream data set. Does the prediction performance saturate at k=2 as it does for the US Flight data?\n",
    "- Study the difference between higher- and first-order centralities in the dynamic social networks contained in the SQLite database file.\n",
    "- Use the higher-order framework to identify those paths of length k that show \"anomalous statistics\" (compared to a memoryless null model). Which are these paths and how can we interpret the result?\n",
    "\n",
    "The data sets and questions above are mere **suggestions for your exploration of higher-order network analytics**. You are welcome to study other data sets or questions instead. Please reach out to me if you encounter any problems or questions (also after the tutorial). You can reach me at `scholtes@ifi.uzh.ch`."
   ]
  },
  {
   "cell_type": "code",
   "execution_count": 1,
   "metadata": {},
   "outputs": [
    {
     "name": "stdout",
     "output_type": "stream",
     "text": [
      "2018-08-21 15:51:57 [Severity.INFO]\tReading ngram data ... \n",
      "2018-08-21 15:51:59 [Severity.INFO]\tfinished. Read 286810 paths with maximum length 13\n",
      "2018-08-21 15:51:59 [Severity.INFO]\tCalculating sub path statistics ... \n",
      "2018-08-21 15:51:59 [Severity.INFO]\tfinished.\n",
      "2018-08-21 15:51:59 [Severity.INFO]\tReading ngram data ... \n",
      "2018-08-21 15:52:00 [Severity.INFO]\tfinished. Read 51318 paths with maximum length 99\n",
      "2018-08-21 15:52:00 [Severity.INFO]\tCalculating sub path statistics ... \n",
      "2018-08-21 15:52:02 [Severity.INFO]\tfinished.\n",
      "2018-08-21 15:52:02 [Severity.INFO]\tReading edge list ... \n",
      "2018-08-21 15:52:02 [Severity.INFO]\tfinished.\n",
      "2018-08-21 15:52:02 [Severity.INFO]\tReading origin/destination statistics from file ...\n",
      "2018-08-21 15:52:02 [Severity.INFO]\tFinished.\n",
      "2018-08-21 15:52:19 [Severity.INFO]\tStarting origin destination path calculation ...\n",
      "2018-08-21 15:54:42 [Severity.INFO]\tfinished.\n"
     ]
    }
   ],
   "source": [
    "import pathpy as pp\n",
    "\n",
    "# Flight data  \n",
    "flight_paths = pp.Paths.read_file('../data/US_flights.ngram', frequency=False)\n",
    "\n",
    "# Clickstreams, ignore single path with more than 400 clicks\n",
    "clickstreams = pp.Paths.read_file('../data/wikipedia_clickstreams.ngram', frequency=False, max_ngram_length=100)\n",
    "\n",
    "# London Tube trips based on Oyster card checkin-checkouts\n",
    "tube_net  = pp.Network.read_file('../data/tube.edges', separator=';')\n",
    "od_stats = pp.path_extraction.read_origin_destination('../data/tube_od.csv', separator=';')\n",
    "tube_trips = pp.path_extraction.paths_from_origin_destination(od_stats, tube_net)"
   ]
  }
 ],
 "metadata": {
  "kernelspec": {
   "display_name": "Python 3",
   "language": "python",
   "name": "python3"
  },
  "language_info": {
   "codemirror_mode": {
    "name": "ipython",
    "version": 3
   },
   "file_extension": ".py",
   "mimetype": "text/x-python",
   "name": "python",
   "nbconvert_exporter": "python",
   "pygments_lexer": "ipython3",
   "version": "3.5.5"
  }
 },
 "nbformat": 4,
 "nbformat_minor": 2
}
