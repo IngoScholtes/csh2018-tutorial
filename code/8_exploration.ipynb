{
 "cells": [
  {
   "cell_type": "markdown",
   "metadata": {},
   "source": [
    "# 8 Exploration: Multi-order analysis of [paths and time-stamped social networks](https://github.com/IngoScholtes/csh2018-tutorial/tree/master/data)\n",
    "\n",
    "**Ingo Scholtes**  \n",
    "Data Analytics Group  \n",
    "Department of Informatics (IfI)  \n",
    "University of Zurich  \n",
    "\n",
    "\n",
    "**September 5 2018**\n",
    "\n",
    "In the last (open-ended) exploration, you get the chance to apply multi-order representation in the analysis of real data. In addition to the pathway data from session 1, we will consider data that we provide in the SQLite database `temporal_networks.db`. You can check which tables it contains by checking the `metadata` table:"
   ]
  },
  {
   "cell_type": "code",
   "execution_count": null,
   "metadata": {},
   "outputs": [],
   "source": [
    "import pathpy as pp\n",
    "import sqlite3\n",
    "\n",
    "con = sqlite3.connect('../data/temporal_networks.db',)\n",
    "con.row_factory = sqlite3.Row\n",
    "\n",
    "for row in con.execute('SELECT * from metadata'):\n",
    "    print('{0} \\t\\t {1}'.format(row['tag'], row['name']))"
   ]
  },
  {
   "cell_type": "markdown",
   "metadata": {},
   "source": [
    "Details on the origin of these data can be found [here](https://github.com/IngoScholtes/kdd2018-tutorial/tree/master/data). Below, we include boilerplate code to load these data sets into the `TemporalNetwork` class in `pathpy`:"
   ]
  },
  {
   "cell_type": "code",
   "execution_count": null,
   "metadata": {},
   "outputs": [],
   "source": [
    "table = 'manufacturing_email'\n",
    "\n",
    "# Check whether network is directed or not\n",
    "directed_network = bool(con.execute(\"SELECT directed FROM metadata WHERE tag='{0}'\".format(table)).fetchone()['directed'])\n",
    "t = pp.TemporalNetwork.from_sqlite(con.execute('SELECT source, target, time FROM ' + table), \n",
    "                                   directed=directed_network)\n",
    "print(t)"
   ]
  },
  {
   "cell_type": "markdown",
   "metadata": {},
   "source": [
    "Using these data and the methods introduced in our tutorial, we suggest to study the following problems (in ascending order of difficulty):\n",
    "\n",
    "- Generate higher-order visualisations of the US Flight and London Tube data and visually compare the graph layouts calculated for the first and optimal-order models.\n",
    "- Use the `MultiOrderModel` class to learn the optimal order of a temporal network. How does the detected optimal order change with the time scale $\\delta$ that you use in the extraction of causal paths?\n",
    "- Use the `MultiOrderModel` class to learn the optimal order of the London Tube data set. How does the detected optimal order compare to the prediction performance studied in exploration 1.4?\n",
    "- Study the change in the algebraic connectivity between the second-order model and the second-order null model for (i) a temporal network data set and (ii) the US Flights data.\n",
    "- Perform a spectral clustering of a dynamic social network based on the Laplacian of higher-order networks at different orders. How does the clustering differ from a first-order clustering?\n",
    "\n",
    "Again, these are only suggestions and you are welcome to use the time to study other data sets or questions that come to your mind. We'll be happy to help you with the analysis."
   ]
  }
 ],
 "metadata": {
  "kernelspec": {
   "display_name": "Python 3",
   "language": "python",
   "name": "python3"
  },
  "language_info": {
   "codemirror_mode": {
    "name": "ipython",
    "version": 3
   },
   "file_extension": ".py",
   "mimetype": "text/x-python",
   "name": "python",
   "nbconvert_exporter": "python",
   "pygments_lexer": "ipython3",
   "version": "3.5.5"
  }
 },
 "nbformat": 4,
 "nbformat_minor": 2
}
